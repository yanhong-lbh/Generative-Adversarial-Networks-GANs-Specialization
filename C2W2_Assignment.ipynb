{
 "cells": [
  {
   "cell_type": "markdown",
   "metadata": {
    "colab_type": "text",
    "id": "gtuicEyI9znr"
   },
   "source": [
    "# Bias"
   ]
  },
  {
   "cell_type": "markdown",
   "metadata": {
    "colab_type": "text",
    "id": "CzKJcDsE93Ko"
   },
   "source": [
    "### Goals\n",
    "In this notebook, you're going to explore a way to identify some biases of a GAN using a classifier, in a way that's well-suited for attempting to make a model independent of an input. Note that not all biases are as obvious as the ones you will see here.\n",
    "\n",
    "### Learning Objectives\n",
    "1.  Be able to distinguish a few different kinds of bias in terms of demographic parity, equality of odds, and equality of opportunity (as proposed [here](http://m-mitchell.com/papers/Adversarial_Bias_Mitigation.pdf)).\n",
    "2. Be able to use a classifier to try and detect biases in a GAN by analyzing the generator's implicit associations."
   ]
  },
  {
   "cell_type": "markdown",
   "metadata": {
    "colab_type": "text",
    "id": "a5Qyl-AnEww0"
   },
   "source": [
    "\n",
    "## Challenges\n",
    "\n",
    "One major challenge in assessing bias in GANs is that you still want your generator to be able to generate examples of different values of a protected class—the class you would like to mitigate bias against. While a classifier can be optimized to have its output be independent of a protected class, a generator which generates faces should be able to generate examples of various protected class values. \n",
    "\n",
    "When you generate examples with various values of a protected class, you don’t want those examples to correspond to any properties that aren’t strictly a function of that protected class. This is made especially difficult since many protected classes (e.g. gender or ethnicity) are social constructs, and what properties count as “a function of that protected class” will vary depending on who you ask. It’s certainly a hard balance to strike.\n",
    "\n",
    "Moreover, a protected class is rarely used to condition a GAN explicitly, so it is often necessary to resort to somewhat post-hoc methods (e.g. using a classifier trained on relevant features, which might be biased itself). \n",
    "\n",
    "In this assignment, you will learn one approach to detect potential bias, by analyzing correlations in feature classifications on the generated images. "
   ]
  },
  {
   "cell_type": "markdown",
   "metadata": {
    "colab_type": "text",
    "id": "wEX6YjIbYLFC"
   },
   "source": [
    "## Getting Started\n",
    "\n",
    "As you have done previously, you will start by importing some useful libraries and defining a visualization function for your images. You will also use the same generator and basic classifier from previous weeks."
   ]
  },
  {
   "cell_type": "markdown",
   "metadata": {
    "colab_type": "text",
    "id": "_xe0xOhIQswC"
   },
   "source": [
    "#### Packages and Visualization"
   ]
  },
  {
   "cell_type": "code",
   "execution_count": 1,
   "metadata": {
    "colab": {},
    "colab_type": "code",
    "id": "7_10LYXRsrWo"
   },
   "outputs": [],
   "source": [
    "import torch\n",
    "import numpy as np\n",
    "from torch import nn\n",
    "from tqdm.auto import tqdm\n",
    "from torchvision import transforms\n",
    "from torchvision.utils import make_grid\n",
    "from torchvision.datasets import CelebA\n",
    "from torch.utils.data import DataLoader\n",
    "import matplotlib.pyplot as plt\n",
    "torch.manual_seed(0) # Set for our testing purposes, please do not change!\n",
    "\n",
    "def show_tensor_images(image_tensor, num_images=16, size=(3, 64, 64), nrow=3):\n",
    "    '''\n",
    "    Function for visualizing images: Given a tensor of images, number of images,\n",
    "    size per image, and images per row, plots and prints the images in an uniform grid.\n",
    "    '''\n",
    "    image_tensor = (image_tensor + 1) / 2\n",
    "    image_unflat = image_tensor.detach().cpu()\n",
    "    image_grid = make_grid(image_unflat[:num_images], nrow=nrow)\n",
    "    plt.imshow(image_grid.permute(1, 2, 0).squeeze())\n",
    "    plt.show()"
   ]
  },
  {
   "cell_type": "markdown",
   "metadata": {
    "colab_type": "text",
    "id": "zv9hWdknQziZ"
   },
   "source": [
    "#### Generator and Noise"
   ]
  },
  {
   "cell_type": "code",
   "execution_count": 2,
   "metadata": {
    "colab": {},
    "colab_type": "code",
    "id": "3zYUIaz6Qz9_"
   },
   "outputs": [],
   "source": [
    "class Generator(nn.Module):\n",
    "    '''\n",
    "    Generator Class\n",
    "    Values:\n",
    "        z_dim: the dimension of the noise vector, a scalar\n",
    "        im_chan: the number of channels in the images, fitted for the dataset used, a scalar\n",
    "              (CelebA is rgb, so 3 is your default)\n",
    "        hidden_dim: the inner dimension, a scalar\n",
    "    '''\n",
    "    def __init__(self, z_dim=10, im_chan=3, hidden_dim=64):\n",
    "        super(Generator, self).__init__()\n",
    "        self.z_dim = z_dim\n",
    "        # Build the neural network\n",
    "        self.gen = nn.Sequential(\n",
    "            self.make_gen_block(z_dim, hidden_dim * 8),\n",
    "            self.make_gen_block(hidden_dim * 8, hidden_dim * 4),\n",
    "            self.make_gen_block(hidden_dim * 4, hidden_dim * 2),\n",
    "            self.make_gen_block(hidden_dim * 2, hidden_dim),\n",
    "            self.make_gen_block(hidden_dim, im_chan, kernel_size=4, final_layer=True),\n",
    "        )\n",
    "\n",
    "    def make_gen_block(self, input_channels, output_channels, kernel_size=3, stride=2, final_layer=False):\n",
    "        '''\n",
    "        Function to return a sequence of operations corresponding to a generator block of DCGAN;\n",
    "        a transposed convolution, a batchnorm (except in the final layer), and an activation.\n",
    "        Parameters:\n",
    "            input_channels: how many channels the input feature representation has\n",
    "            output_channels: how many channels the output feature representation should have\n",
    "            kernel_size: the size of each convolutional filter, equivalent to (kernel_size, kernel_size)\n",
    "            stride: the stride of the convolution\n",
    "            final_layer: a boolean, true if it is the final layer and false otherwise \n",
    "                      (affects activation and batchnorm)\n",
    "        '''\n",
    "        if not final_layer:\n",
    "            return nn.Sequential(\n",
    "                nn.ConvTranspose2d(input_channels, output_channels, kernel_size, stride),\n",
    "                nn.BatchNorm2d(output_channels),\n",
    "                nn.ReLU(inplace=True),\n",
    "            )\n",
    "        else:\n",
    "            return nn.Sequential(\n",
    "                nn.ConvTranspose2d(input_channels, output_channels, kernel_size, stride),\n",
    "                nn.Tanh(),\n",
    "            )\n",
    "\n",
    "    def forward(self, noise):\n",
    "        '''\n",
    "        Function for completing a forward pass of the generator: Given a noise tensor, \n",
    "        returns generated images.\n",
    "        Parameters:\n",
    "            noise: a noise tensor with dimensions (n_samples, z_dim)\n",
    "        '''\n",
    "        x = noise.view(len(noise), self.z_dim, 1, 1)\n",
    "        return self.gen(x)\n",
    "\n",
    "def get_noise(n_samples, z_dim, device='cpu'):\n",
    "    '''\n",
    "    Function for creating noise vectors: Given the dimensions (n_samples, z_dim)\n",
    "    creates a tensor of that shape filled with random numbers from the normal distribution.\n",
    "    Parameters:\n",
    "        n_samples: the number of samples to generate, a scalar\n",
    "        z_dim: the dimension of the noise vector, a scalar\n",
    "        device: the device type\n",
    "    '''\n",
    "    return torch.randn(n_samples, z_dim, device=device)"
   ]
  },
  {
   "cell_type": "markdown",
   "metadata": {
    "colab_type": "text",
    "id": "KeSVrnG1RAy4"
   },
   "source": [
    "#### Classifier"
   ]
  },
  {
   "cell_type": "code",
   "execution_count": 3,
   "metadata": {
    "colab": {},
    "colab_type": "code",
    "id": "VqF54g4qRD-X"
   },
   "outputs": [],
   "source": [
    "class Classifier(nn.Module):\n",
    "    '''\n",
    "    Classifier Class\n",
    "    Values:\n",
    "        im_chan: the number of channels in the images, fitted for the dataset used, a scalar\n",
    "              (CelebA is rgb, so 3 is your default)\n",
    "        n_classes: the total number of classes in the dataset, an integer scalar\n",
    "        hidden_dim: the inner dimension, a scalar\n",
    "    '''\n",
    "    def __init__(self, im_chan=3, n_classes=2, hidden_dim=64):\n",
    "        super(Classifier, self).__init__()\n",
    "        self.classifier = nn.Sequential(\n",
    "            self.make_classifier_block(im_chan, hidden_dim),\n",
    "            self.make_classifier_block(hidden_dim, hidden_dim * 2),\n",
    "            self.make_classifier_block(hidden_dim * 2, hidden_dim * 4, stride=3),\n",
    "            self.make_classifier_block(hidden_dim * 4, n_classes, final_layer=True),\n",
    "        )\n",
    "\n",
    "    def make_classifier_block(self, input_channels, output_channels, kernel_size=4, stride=2, final_layer=False):\n",
    "        '''\n",
    "        Function to return a sequence of operations corresponding to a classifier block; \n",
    "        a convolution, a batchnorm (except in the final layer), and an activation (except in the final layer).\n",
    "        Parameters:\n",
    "            input_channels: how many channels the input feature representation has\n",
    "            output_channels: how many channels the output feature representation should have\n",
    "            kernel_size: the size of each convolutional filter, equivalent to (kernel_size, kernel_size)\n",
    "            stride: the stride of the convolution\n",
    "            final_layer: a boolean, true if it is the final layer and false otherwise \n",
    "                      (affects activation and batchnorm)\n",
    "        '''\n",
    "        if not final_layer:\n",
    "            return nn.Sequential(\n",
    "                nn.Conv2d(input_channels, output_channels, kernel_size, stride),\n",
    "                nn.BatchNorm2d(output_channels),\n",
    "                nn.LeakyReLU(0.2, inplace=True),\n",
    "            )\n",
    "        else:\n",
    "            return nn.Sequential(\n",
    "                nn.Conv2d(input_channels, output_channels, kernel_size, stride),\n",
    "            )\n",
    "\n",
    "    def forward(self, image):\n",
    "        '''\n",
    "        Function for completing a forward pass of the classifier: Given an image tensor, \n",
    "        returns an n_classes-dimension tensor representing classes.\n",
    "        Parameters:\n",
    "            image: a flattened image tensor with im_chan channels\n",
    "        '''\n",
    "        class_pred = self.classifier(image)\n",
    "        return class_pred.view(len(class_pred), -1)"
   ]
  },
  {
   "cell_type": "markdown",
   "metadata": {
    "colab_type": "text",
    "id": "ZKyIEkWnYZ6J"
   },
   "source": [
    "## Specifying Parameters\n",
    "You will also need to specify a few parameters before you begin training:\n",
    "  *   z_dim: the dimension of the noise vector\n",
    "  *   batch_size: the number of images per forward/backward pass\n",
    "  *   device: the device type"
   ]
  },
  {
   "cell_type": "code",
   "execution_count": 4,
   "metadata": {
    "colab": {},
    "colab_type": "code",
    "id": "-GLwMw2v8Vat"
   },
   "outputs": [],
   "source": [
    "z_dim = 64\n",
    "batch_size = 128\n",
    "device = 'cuda'"
   ]
  },
  {
   "cell_type": "markdown",
   "metadata": {
    "colab_type": "text",
    "id": "HSNXcCTfYVzY"
   },
   "source": [
    "## Train a Classifier (Optional)\n",
    "\n",
    "You're welcome to train your own classifier with this code, but you are provide a pre-trained one based on this architecture here which you can load and use in the next section. "
   ]
  },
  {
   "cell_type": "code",
   "execution_count": null,
   "metadata": {
    "colab": {},
    "colab_type": "code",
    "id": "HwBG8BGq64OJ"
   },
   "outputs": [],
   "source": [
    "# You can run this code to train your own classifier, but there is a provided pre-trained one \n",
    "# If you'd like to use this, just run \"train_classifier(filename)\"\n",
    "# To train and save a classifier on the label indices to that filename\n",
    "def train_classifier(filename):\n",
    "    import seaborn as sns\n",
    "    import matplotlib.pyplot as plt\n",
    "\n",
    "    # You're going to target all the classes, so that's how many the classifier will learn\n",
    "    label_indices = range(40)\n",
    "\n",
    "    n_epochs = 3\n",
    "    display_step = 500\n",
    "    lr = 0.001\n",
    "    beta_1 = 0.5\n",
    "    beta_2 = 0.999\n",
    "    image_size = 64\n",
    "\n",
    "    transform = transforms.Compose([\n",
    "        transforms.Resize(image_size),\n",
    "        transforms.CenterCrop(image_size),\n",
    "        transforms.ToTensor(),\n",
    "        transforms.Normalize((0.5, 0.5, 0.5), (0.5, 0.5, 0.5)),\n",
    "    ])\n",
    "\n",
    "    dataloader = DataLoader(\n",
    "        CelebA(\".\", split='train', download=True, transform=transform),\n",
    "        batch_size=batch_size,\n",
    "        shuffle=True)\n",
    "\n",
    "    classifier = Classifier(n_classes=len(label_indices)).to(device)\n",
    "    class_opt = torch.optim.Adam(classifier.parameters(), lr=lr, betas=(beta_1, beta_2))\n",
    "    criterion = nn.BCEWithLogitsLoss()\n",
    "\n",
    "    cur_step = 0\n",
    "    classifier_losses = []\n",
    "    # classifier_val_losses = []\n",
    "    for epoch in range(n_epochs):\n",
    "        # Dataloader returns the batches\n",
    "        for real, labels in tqdm(dataloader):\n",
    "            real = real.to(device)\n",
    "            labels = labels[:, label_indices].to(device).float()\n",
    "\n",
    "            class_opt.zero_grad()\n",
    "            class_pred = classifier(real)\n",
    "            class_loss = criterion(class_pred, labels)\n",
    "            class_loss.backward() # Calculate the gradients\n",
    "            class_opt.step() # Update the weights\n",
    "            classifier_losses += [class_loss.item()] # Keep track of the average classifier loss\n",
    "\n",
    "            ### Visualization code ###\n",
    "            if cur_step % display_step == 0 and cur_step > 0:\n",
    "                class_mean = sum(classifier_losses[-display_step:]) / display_step\n",
    "                print(f\"Step {cur_step}: Classifier loss: {class_mean}\")\n",
    "                step_bins = 20\n",
    "                x_axis = sorted([i * step_bins for i in range(len(classifier_losses) // step_bins)] * step_bins)\n",
    "                sns.lineplot(x_axis, classifier_losses[:len(x_axis)], label=\"Classifier Loss\")\n",
    "                plt.legend()\n",
    "                plt.show()\n",
    "                torch.save({\"classifier\": classifier.state_dict()}, filename)\n",
    "            cur_step += 1\n",
    "\n",
    "# Uncomment the last line to train your own classfier - this line will not work in Coursera.\n",
    "# If you'd like to do this, you'll have to download it and run it, ideally using a GPU.\n",
    "# train_classifier(\"filename\")"
   ]
  },
  {
   "cell_type": "markdown",
   "metadata": {
    "colab_type": "text",
    "id": "Iu1TcEA3aSSI"
   },
   "source": [
    "## Loading the Pre-trained Models\n",
    "\n",
    "You can now load the pre-trained generator (trained on CelebA) and classifier using the following code. If you trained your own classifier, you can load that one here instead. However, it is suggested that you first go through the assignment using the pre-trained one."
   ]
  },
  {
   "cell_type": "code",
   "execution_count": 5,
   "metadata": {
    "colab": {
     "base_uri": "https://localhost:8080/",
     "height": 34
    },
    "colab_type": "code",
    "id": "OgrLujk_tYDu",
    "outputId": "d6ba10d8-1579-44ee-a26a-a224b32a47c5"
   },
   "outputs": [
    {
     "name": "stdout",
     "output_type": "stream",
     "text": [
      "Loaded the models!\n"
     ]
    }
   ],
   "source": [
    "import torch\n",
    "gen = Generator(z_dim).to(device)\n",
    "gen_dict = torch.load(\"pretrained_celeba.pth\", map_location=torch.device(device))[\"gen\"]\n",
    "gen.load_state_dict(gen_dict)\n",
    "gen.eval()\n",
    "\n",
    "n_classes = 40\n",
    "classifier = Classifier(n_classes=n_classes).to(device)\n",
    "class_dict = torch.load(\"pretrained_classifier.pth\", map_location=torch.device(device))[\"classifier\"]\n",
    "classifier.load_state_dict(class_dict)\n",
    "classifier.eval()\n",
    "print(\"Loaded the models!\")\n",
    "\n",
    "opt = torch.optim.Adam(classifier.parameters(), lr=0.01)"
   ]
  },
  {
   "cell_type": "markdown",
   "metadata": {
    "colab_type": "text",
    "id": "AspUMgXOMS1b"
   },
   "source": [
    "## Feature Correlation\n",
    "Now you can generate images using the generator. By also using the classifier, you will be generating images with different amounts of the \"male\" feature.\n",
    "\n",
    "You are welcome to experiment with other features as the target feature, but it is encouraged that you initially go through the notebook as is before exploring."
   ]
  },
  {
   "cell_type": "code",
   "execution_count": 6,
   "metadata": {
    "colab": {},
    "colab_type": "code",
    "id": "kASNj6nLz7kh"
   },
   "outputs": [],
   "source": [
    "# First you generate a bunch of fake images with the generator\n",
    "n_images = 256\n",
    "fake_image_history = []\n",
    "classification_history = []\n",
    "grad_steps = 30 # How many gradient steps to take\n",
    "skip = 2 # How many gradient steps to skip in the visualization\n",
    "\n",
    "feature_names = [\"5oClockShadow\", \"ArchedEyebrows\", \"Attractive\", \"BagsUnderEyes\", \"Bald\", \"Bangs\",\n",
    "\"BigLips\", \"BigNose\", \"BlackHair\", \"BlondHair\", \"Blurry\", \"BrownHair\", \"BushyEyebrows\", \"Chubby\",\n",
    "\"DoubleChin\", \"Eyeglasses\", \"Goatee\", \"GrayHair\", \"HeavyMakeup\", \"HighCheekbones\", \"Male\", \n",
    "\"MouthSlightlyOpen\", \"Mustache\", \"NarrowEyes\", \"NoBeard\", \"OvalFace\", \"PaleSkin\", \"PointyNose\", \n",
    "\"RecedingHairline\", \"RosyCheeks\", \"Sideburn\", \"Smiling\", \"StraightHair\", \"WavyHair\", \"WearingEarrings\", \n",
    "\"WearingHat\", \"WearingLipstick\", \"WearingNecklace\", \"WearingNecktie\", \"Young\"]\n",
    "\n",
    "n_features = len(feature_names)\n",
    "# Set the target feature\n",
    "target_feature = \"Male\"\n",
    "target_indices = feature_names.index(target_feature)\n",
    "noise = get_noise(n_images, z_dim).to(device)\n",
    "new_noise = noise.clone().requires_grad_()\n",
    "starting_classifications = classifier(gen(new_noise)).cpu().detach()\n",
    "\n",
    "# Additive direction (more of a feature)\n",
    "for i in range(grad_steps):\n",
    "    opt.zero_grad()\n",
    "    fake = gen(new_noise)\n",
    "    fake_image_history += [fake]\n",
    "    classifications = classifier(fake)\n",
    "    classification_history += [classifications.cpu().detach()]\n",
    "    fake_classes = classifications[:, target_indices].mean()\n",
    "    fake_classes.backward()\n",
    "    new_noise.data += new_noise.grad / grad_steps\n",
    "\n",
    "# Subtractive direction (less of a feature)\n",
    "new_noise = noise.clone().requires_grad_()\n",
    "for i in range(grad_steps):\n",
    "    opt.zero_grad()\n",
    "    fake = gen(new_noise)\n",
    "    fake_image_history += [fake]\n",
    "    classifications = classifier(fake)\n",
    "    classification_history += [classifications.cpu().detach()]\n",
    "    fake_classes = classifications[:, target_indices].mean()\n",
    "    fake_classes.backward()\n",
    "    new_noise.data -= new_noise.grad / grad_steps\n",
    "\n",
    "classification_history = torch.stack(classification_history)"
   ]
  },
  {
   "cell_type": "markdown",
   "metadata": {
    "colab_type": "text",
    "id": "z7sGUfJlDZst"
   },
   "source": [
    "You've now generated image samples, which have increasing or decreasing amounts of the target feature. You can visualize the way in which that affects other classified features. The x-axis will show you the amount of change in your target feature and the y-axis shows how much the other features change, as detected in those images by the classifier. Together, you will be able to see the covariance of \"male-ness\" and other features.\n",
    "\n",
    "You are started off with a set of features that have interesting associations with \"male-ness\", but you are welcome to change the features in `other_features` with others from `feature_names`."
   ]
  },
  {
   "cell_type": "code",
   "execution_count": 7,
   "metadata": {
    "colab": {
     "base_uri": "https://localhost:8080/",
     "height": 349
    },
    "colab_type": "code",
    "id": "5Q0b24CHDX8A",
    "outputId": "e325ebc5-9f2e-44a5-ee7c-70d391880350"
   },
   "outputs": [
    {
     "data": {
      "image/png": "[encoded data removed]",
      "text/plain": [
       "<Figure size 432x288 with 1 Axes>"
      ]
     },
     "metadata": {},
     "output_type": "display_data"
    }
   ],
   "source": [
    "import seaborn as sns\n",
    "# Set the other features\n",
    "other_features = [\"Smiling\", \"Bald\", \"Young\", \"HeavyMakeup\", \"Attractive\"]\n",
    "classification_changes = (classification_history - starting_classifications[None, :, :]).numpy()\n",
    "for other_feature in other_features:\n",
    "    other_indices = feature_names.index(other_feature)\n",
    "    with sns.axes_style(\"darkgrid\"):\n",
    "        sns.regplot(\n",
    "            classification_changes[:, :, target_indices].reshape(-1), \n",
    "            classification_changes[:, :, other_indices].reshape(-1), \n",
    "            fit_reg=True,\n",
    "            truncate=True,\n",
    "            ci=99,\n",
    "            x_ci=99,\n",
    "            x_bins=len(classification_history),\n",
    "            label=other_feature\n",
    "        )\n",
    "plt.xlabel(target_feature)\n",
    "plt.ylabel(\"Other Feature\")\n",
    "plt.title(f\"Generator Biases: Features vs {target_feature}-ness\")\n",
    "plt.legend(loc=1)\n",
    "plt.show()"
   ]
  },
  {
   "cell_type": "markdown",
   "metadata": {
    "colab_type": "text",
    "id": "6QOuJWDfZzpK"
   },
   "source": [
    "This correlation detection can be used to reduce bias by penalizing this type of correlation in the loss during the training of the generator. However, currently there is no rigorous and accepted solution for debiasing GANs. A first step that you can take in the right direction comes before training the model: make sure that your dataset is inclusive and representative, and consider how you can mitigate the biases resulting from whatever data collection method you used—for example, getting a representative labelers for your task. \n",
    "\n",
    "It is important to note that, as highlighted in the lecture and by many researchers including [Timnit Gebru and Emily Denton](https://sites.google.com/view/fatecv-tutorial/schedule), a diverse dataset alone is not enough to eliminate bias. Even diverse datasets can reinforce existing structural biases by simply capturing common social biases. Mitigating these biases is an important and active area of research.\n",
    "\n",
    "#### Note on CelebA\n",
    "You may have noticed that there are obvious correlations between the feature you are using, \"male\", and other seemingly unrelated features, \"smiling\" and \"young\" for example. This is because the CelebA dataset labels had no serious consideration for diversity. The data represents the biases of their labelers, the dataset creators, the social biases as a result of using a dataset based on American celebrities, and many others. Equipped with knowledge about bias, we trust that you will do better in the future datasets you create."
   ]
  },
  {
   "cell_type": "markdown",
   "metadata": {
    "colab_type": "text",
    "id": "yHXjgqehz4vn"
   },
   "source": [
    "## Quantification\n",
    "Finally, you can also quantitatively evaluate the degree to which these factors covary. Given a target index, for example corresponding to \"male,\" you'll want to return the other features that covary with that target feature the most. You'll want to account for both large negative and positive covariances, and you'll want to avoid returning the target feature in your list of covarying features (since a feature will often have a high covariance with itself). You'll complete some helper functions first, each of which should be one or two lines long.\n",
    "\n",
    "<details>\n",
    "\n",
    "<summary>\n",
    "<font size=\"3\" color=\"green\">\n",
    "<b>Optional hints for <code><font size=\"4\">covariance_matrix_from_examples</font></code></b>\n",
    "</font>\n",
    "</summary>\n",
    "\n",
    "1.   You will likely find the following function useful: [np.cov](https://numpy.org/doc/stable/reference/generated/numpy.cov.html). Note the `rowvar` parameter.\n",
    "2.   You will probably find it useful to [reshape](https://numpy.org/doc/stable/reference/generated/numpy.reshape.html) the input.\n",
    "</details>"
   ]
  },
  {
   "cell_type": "code",
   "execution_count": 11,
   "metadata": {},
   "outputs": [
    {
     "name": "stdout",
     "output_type": "stream",
     "text": [
      "covariance_matrix_from_examples works!\n"
     ]
    }
   ],
   "source": [
    "from torch.distributions import MultivariateNormal\n",
    "def covariance_matrix_from_examples(examples):\n",
    "    \"\"\"\n",
    "    Helper function for get_top_covariances to calculate a covariance matrix. \n",
    "    Parameter: examples: a list of steps corresponding to samples of shape (2 * grad_steps, n_images, n_features)\n",
    "    Returns: the (n_features, n_features) covariance matrix from the examples\n",
    "    \"\"\"\n",
    "    # Hint: np.cov will be useful here - note the rowvar argument!\n",
    "    ### START CODE HERE ###\n",
    "    flattened = examples.reshape(-1, examples.shape[-1])\n",
    "    return np.cov(flattened, rowvar=False)\n",
    "    ### END CODE HERE ###\n",
    "mean = torch.Tensor([0, 0, 0, 0]) \n",
    "covariance = torch.Tensor( \n",
    "    [[10, 2, -0.5, -5],\n",
    "     [2, 11, 5, 4],\n",
    "     [-0.5, 5, 10, 2],\n",
    "     [-5, 4, 2, 11]]\n",
    ")\n",
    "samples = MultivariateNormal(mean, covariance).sample((60 * 128,))\n",
    "foo = samples.reshape(60, 128, samples.shape[-1]).numpy()\n",
    "assert np.all(np.abs(covariance_matrix_from_examples(foo) - covariance.numpy()) < 0.5)\n",
    "print(\"covariance_matrix_from_examples works!\")"
   ]
  },
  {
   "cell_type": "markdown",
   "metadata": {},
   "source": [
    "Now you'll write a helper function to return the indices of a numpy array in order of magnitude.\n",
    "<details>\n",
    "<summary>\n",
    "<font size=\"3\" color=\"green\">\n",
    "<b>Optional hints for <code><font size=\"4\">get_top_magnitude_indices</font></code></b>\n",
    "</font>\n",
    "</summary>\n",
    "\n",
    "4.   Feel free to use any reasonable method to get the largest elements - you may find [np.argsort](https://numpy.org/doc/stable/reference/generated/numpy.argsort.html) useful here.\n",
    "</details>"
   ]
  },
  {
   "cell_type": "code",
   "execution_count": 18,
   "metadata": {},
   "outputs": [
    {
     "name": "stdout",
     "output_type": "stream",
     "text": [
      "get_top_magnitude_indices works!\n"
     ]
    }
   ],
   "source": [
    "def get_top_magnitude_indices(values):\n",
    "    \"\"\"\n",
    "    Helper function for get_top_covariances to get indices by magnitude. \n",
    "    Parameter: values, a list of values as a numpy array of shape (n_values)\n",
    "    Returns: numpy array of indices sorted from greatest to least by the magnitudes of their corresponding values\n",
    "    \"\"\"\n",
    "    # Hint: This can be done in one or two lines using np.argsort and np.abs!\n",
    "    ### START CODE HERE ###\n",
    "    top_indices = np.argsort(np.abs(values))[::-1]\n",
    "    ### END CODE HERE ###\n",
    "    return top_indices\n",
    "assert get_top_magnitude_indices([3, 2, 1, 0]).tolist() == [0, 1, 2, 3]\n",
    "assert get_top_magnitude_indices([-2, 0, 1]).tolist() == [0, 2, 1]\n",
    "print(\"get_top_magnitude_indices works!\")"
   ]
  },
  {
   "cell_type": "markdown",
   "metadata": {},
   "source": [
    "Now you'll write a helper function to return a list with an element removed by the value, in an unchanged order. In this case, you won't have to remove any values multiple times, so don't worry about how you handle multiple examples."
   ]
  },
  {
   "cell_type": "code",
   "execution_count": 20,
   "metadata": {},
   "outputs": [
    {
     "name": "stdout",
     "output_type": "stream",
     "text": [
      "remove_from_list works!\n"
     ]
    }
   ],
   "source": [
    "def remove_from_list(indices, index_to_remove):\n",
    "    \"\"\"\n",
    "    Helper function for get_top_covariances to remove an index from an array. \n",
    "    Parameter: indices, a list of indices as a numpy array of shape (n_indices)\n",
    "    Returns: the numpy array of indices in the same order without index_to_remove\n",
    "    \"\"\"\n",
    "    # Hint: There are many ways to do this, but please don't edit the list in-place.\n",
    "    # If you're not very familiar with array indexing, you may find this page helpful:\n",
    "    # https://numpy.org/devdocs/reference/arrays.indexing.html (especially boolean indexing)\n",
    "    ### START CODE HERE ###\n",
    "    new_indices = np.delete(indices, np.where(indices == index_to_remove))\n",
    "    ### END CODE HERE ###\n",
    "    return new_indices\n",
    "assert remove_from_list(np.array([3, 2, 1, 0]), 1).tolist() == [3, 2, 0]\n",
    "print(\"remove_from_list works!\")"
   ]
  },
  {
   "cell_type": "markdown",
   "metadata": {},
   "source": [
    "Now, you can put the above helper functions together.\n",
    "\n",
    "<details>\n",
    "<summary>\n",
    "<font size=\"3\" color=\"green\">\n",
    "<b>Optional hints for <code><font size=\"4\">get_top_covariances</font></code></b>\n",
    "</font>\n",
    "</summary>\n",
    "\n",
    "1.   Start by finding the covariance matrix\n",
    "3.   The target feature should not be included in the outputs.\n",
    "5.   It may be easiest to solve this if you find the `relevant_indices` first, and then use `relevant_indices` to calculate `highest_covariances`.\n",
    "6.   You want to sort by absolute value but return the actual values.\n",
    "</details>"
   ]
  },
  {
   "cell_type": "code",
   "execution_count": 23,
   "metadata": {
    "colab": {},
    "colab_type": "code",
    "id": "ZqoowVhFGzOH"
   },
   "outputs": [],
   "source": [
    "# UNQ_C1 (UNIQUE CELL IDENTIFIER, DO NOT EDIT)\n",
    "# GRADED CELL: get_top_covariances\n",
    "def get_top_covariances(classification_changes, target_index, top_n=10):\n",
    "    '''\n",
    "    Function for getting the top n covariances: Given a list of classification changes\n",
    "    and the index of the target feature, returns \n",
    "    (1) relevant_indices: a list or tensor (numpy or torch) of the indices corresponding \n",
    "        to the n features that covary most with the target in terms of absolute covariance\n",
    "    (2) highest_covariances: a list or tensor of the degrees to which they covary.\n",
    "    Parameters:\n",
    "        classification_changes: relative changes in classifications of each generated image \n",
    "          resulting from optimizing the target feature (see above for a visualization)\n",
    "        target_index: the index of the target feature, a scalar\n",
    "        top_n: the top most number of elements to return, default is 10\n",
    "    '''\n",
    "    # Hint: Don't forget you also care about negative covariances!\n",
    "    # Note that classification_changes has a shape of (2 * grad_steps, n_images, n_features) \n",
    "    # where n_features is the number of features measured by the classifier, and you are looking\n",
    "    # for the covariance of the features based on the (2 * grad_steps * n_images) samples.\n",
    "    #### START CODE HERE ####\n",
    "    covariance_matrix = covariance_matrix_from_examples(classification_changes)\n",
    "    relevant_indices = remove_from_list(get_top_magnitude_indices(covariance_matrix[target_index, :]), target_index)[:top_n]\n",
    "    highest_covariances = covariance_matrix[:, relevant_indices][target_index]\n",
    "    #### END CODE HERE ####\n",
    "    return relevant_indices, highest_covariances"
   ]
  },
  {
   "cell_type": "code",
   "execution_count": 24,
   "metadata": {},
   "outputs": [
    {
     "name": "stdout",
     "output_type": "stream",
     "text": [
      "All tests passed\n"
     ]
    }
   ],
   "source": [
    "# UNIT TEST\n",
    "from torch.distributions import MultivariateNormal\n",
    "mean = torch.Tensor([0, 0, 0, 0]) \n",
    "covariance = torch.Tensor( \n",
    "    [[10, 2, -0.5, -5],\n",
    "     [2, 11, 5, 4],\n",
    "     [-0.5, 5, 10, 2],\n",
    "     [-5, 4, 2, 11]]\n",
    ")\n",
    "independent_dist = MultivariateNormal(mean, covariance)\n",
    "samples = independent_dist.sample((60 * 128,))\n",
    "foo = samples.reshape(60, 128, samples.shape[-1])\n",
    "\n",
    "relevant_indices, highest_covariances = get_top_covariances(foo, 1, top_n=3)\n",
    "assert (tuple(relevant_indices) == (2, 3, 0)), \"Make sure you're getting the greatest, not the least covariances\"\n",
    "assert np.all(np.abs(highest_covariances - [5, 4, 2]) < 0.5 )\n",
    "\n",
    "relevant_indices, highest_covariances = get_top_covariances(foo, 0, top_n=3)\n",
    "assert (tuple(relevant_indices) == (3, 1, 2)), \"Make sure to consider the magnitude of negative covariances\"\n",
    "assert np.all(np.abs(highest_covariances - [-5, 2, -0.5]) < 0.5 )\n",
    "\n",
    "relevant_indices, highest_covariances = get_top_covariances(foo, 2, top_n=2)\n",
    "assert (tuple(relevant_indices) == (1, 3))\n",
    "assert np.all(np.abs(highest_covariances - [5, 2]) < 0.5 )\n",
    "\n",
    "relevant_indices, highest_covariances = get_top_covariances(foo, 3, top_n=2)\n",
    "assert (tuple(relevant_indices) == (0, 1))\n",
    "assert np.all(np.abs(highest_covariances - [-5, 4]) < 0.5 )\n",
    "\n",
    "print(\"All tests passed\")"
   ]
  },
  {
   "cell_type": "code",
   "execution_count": 25,
   "metadata": {
    "colab": {},
    "colab_type": "code",
    "id": "cRdY3D3Yndwr"
   },
   "outputs": [
    {
     "name": "stdout",
     "output_type": "stream",
     "text": [
      "[36 18 24 30  0 22 16 38  9 34]\n",
      "WearingLipstick  -2.952787\n",
      "HeavyMakeup  -2.705986\n",
      "NoBeard  -2.559970\n",
      "Sideburn  2.049632\n",
      "5oClockShadow  2.006896\n",
      "Mustache  1.998531\n",
      "Goatee  1.859603\n",
      "WearingNecktie  1.583775\n",
      "BlondHair  -1.241804\n",
      "WearingEarrings  -1.207924\n"
     ]
    }
   ],
   "source": [
    "relevant_indices, highest_covariances = get_top_covariances(classification_changes, target_indices, top_n=10)\n",
    "print(relevant_indices)\n",
    "assert relevant_indices[9] == 34\n",
    "assert len(relevant_indices) == 10\n",
    "assert highest_covariances[8] - (-1.2418) < 1e-3\n",
    "for index, covariance in zip(relevant_indices, highest_covariances):\n",
    "    print(f\"{feature_names[index]}  {covariance:f}\")"
   ]
  },
  {
   "cell_type": "markdown",
   "metadata": {
    "colab_type": "text",
    "id": "TYKG365iKCNR"
   },
   "source": [
    "One of the major sources of difficulty with identifying bias and fairness, as discussed in the lectures, is that there are many ways you might reasonably define these terms. Here are three ways that are computationally useful and [widely referenced](http://m-mitchell.com/papers/Adversarial_Bias_Mitigation.pdf). They are, by no means, the only definitions of fairness (see more details [here](https://developers.google.com/machine-learning/glossary/fairness)):\n",
    "\n",
    "\n",
    "1.   Demographic parity: the overall distribution of the predictions made by a predictor is the same for different values of a protected class. \n",
    "2.   Equality of odds: all else being equal, the probability that you predict correctly or incorrectly is the same for different values of a protected class. \n",
    "2.   Equality of opportunity: all else being equal, the probability that you predict correctly is the same for different valus of a protected class (weaker than equality of odds).\n",
    "\n",
    "With GANs also being used to help downstream classifiers (you will see this firsthand in future assignments), these definitions of fairness will impact, as well as depend on, your downstream task. It is important to work towards creating a fair GAN according to the definition you choose. Pursuing any of them is virtually always better than blindly labelling data, creating a GAN, and sampling its generations."
   ]
  },
  {
   "cell_type": "code",
   "execution_count": null,
   "metadata": {},
   "outputs": [],
   "source": []
  }
 ],
 "metadata": {
  "accelerator": "GPU",
  "colab": {
   "collapsed_sections": [],
   "name": "C2W2_3: Bias (Student).ipynb",
   "provenance": []
  },
  "coursera": {
   "schema_names": [
    "GANSC2-2A"
   ]
  },
  "kernelspec": {
   "display_name": "Python 3",
   "language": "python",
   "name": "python3"
  },
  "language_info": {
   "codemirror_mode": {
    "name": "ipython",
    "version": 3
   },
   "file_extension": ".py",
   "mimetype": "text/x-python",
   "name": "python",
   "nbconvert_exporter": "python",
   "pygments_lexer": "ipython3",
   "version": "3.6.9"
  }
 },
 "nbformat": 4,
 "nbformat_minor": 1
}
